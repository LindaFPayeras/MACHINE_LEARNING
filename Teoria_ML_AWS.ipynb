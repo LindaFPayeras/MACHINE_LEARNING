{
 "cells": [
  {
   "cell_type": "markdown",
   "metadata": {},
   "source": [
    "# Machine Learning Foundations\n",
    "*Linda Fei Payeras Olano | Según AWS*\n",
    "\n",
    "![Imagen IA](./Mult_Teoria_ML_AWS/image1.jpeg) "
   ]
  },
  {
   "cell_type": "markdown",
   "metadata": {},
   "source": [
    "## Contenido\n",
    "\n",
    "1. [Módulo 2](Teoria_ML_AWS.ipynb#módulo-2)\n",
    "    - [¿Qué es ML?](#qué-es-machine-learning)\n",
    "    - [Problemas empresariales resueltos con ML](#problemas-empresariales-resueltos-con-machine-learning)\n",
    "    - [Proceso del ML](#proceso-de-ml)\n",
    "    - [Desafios del ML](#desafios-del-ml)\n",
    "2. [Módulo 3: Implementacion de una canalizacion de aprendizaje automático](#módulo-3)\n",
    "3.\n",
    "\n"
   ]
  },
  {
   "cell_type": "markdown",
   "metadata": {},
   "source": [
    "## Módulo 2\n",
    "### ¿Qué es Machine Learning?\n",
    "\n",
    "Es un subconjunto de la Inteligencia Artificial (IA) que es una amplia rama de las ciencias de la computación para crear máquinas que se puedan realizar tareas humanas. El Deap Learning (DL) es un subdominio del ML. \n",
    "\n",
    "![Estructura de IA, ML, DL, IA generativa](./Mult_Teoria_ML_AWS/image2.png)\n",
    "\n",
    "- <u>AGI (Artificial General Inteligence)</u>: Pueden aprender o comprender cualquier tarea que pueda entender un ser humano.\n",
    "- <u>Machine learning</u>: Es el estudio científico de algoritmos y modelos estadísticos para realizar una tarea utilizando inferencia en lugar de instrucciones. \n",
    "![Flujo ML](./Mult_Teoria_ML_AWS/image3.png)\n",
    "\n",
    "Deep learning o aprendizaje profundo representa un avance significativo en las capacidades de la IA y ML. La teoría se basó en cómo funciona el cerebro humano → redes neuronales artificiales (ANN, Artificial Neuronal Network) se inspira en las neuronas biológicas del cerebro.\n",
    "\n",
    "<u>Redes neuronales artificiales:</u>\n",
    "-\t+1 entradas y 1 única salida\n",
    "-\tDesencadenan la activación de sus salidas en función de la transformación de entradas.\n",
    "-\tSe compone de capas de neuronas con conexiones entre las capas.\n",
    "    + Capas de entrada: Datos de entrenamiento\n",
    "    + Capa de salida: respuesta a los problemas que se planteen\n",
    "    + Capas ocultas\n",
    "-\tFuncionamiento:\n",
    "        Se le mete un problema y las neuronas se activan. Las capas de entrada contienen los datos de entrenamiento y van procesando la información en las capas ocultas hasta que en la capa de salida se devuelve un resultado. Se procede a comprobar el resultado exacto y lo que debería de haber dado. Si no es correcto se repite el proceso con diferentes pesos en las neuronas hasta que se consigue. En cada iteración se fortalece las conexiones que conducen al éxito y debilitan las que llevan al fracaso. \n",
    "\n",
    "\n",
    "**LA IA GENERATIVA**\n",
    "\n",
    "Es un tipo de IA que puede crear nuevos contenidos e ideas, como conversaciones, historias, imágenes, videos y música. La IA generativa se basa en modelos de ML de gran tamaño entrenados previamente con grandes cantidades de datos.\n",
    "- <u>Modelos Fundacionales (FM)</u>: puede utilizarse para distintas tareas sin necesidad de entrenamiento adicional. Se usa para mejorar la experiencia del cliente a través de chatbots, asistentes virtuales, centros de contacto inteligentes, personalización y moderación de contenido.\n",
    "\n",
    "\n",
    "**AVANCES TECNOLOGICOS Y ML**\n",
    "\n",
    "A mediados de la década de los 2000 comenzaron a producir avances rápidos gracias a la **ley de Moore** y auge de la <u>computación en la nube</u>.\n",
    "-\tComputación en la nube: fácil acceso a las capacidades de computo y almacenamiento mayores, más rápidas y baratas. \n",
    "    + Ahora se puede alquilar rendimiento informático h/$ en comparación con las inversiones a gran escala de antes\n",
    "\n",
    "2012 el uso de redes neuronales comenzó en el Desafío de reconocimiento visual a gran escala de ImageNet → índice subió al 82% y en 2015 superó el rendimiento humano.\n"
   ]
  },
  {
   "cell_type": "markdown",
   "metadata": {},
   "source": [
    "### Problemas empresariales resueltos con Machine Learning\n",
    "\n",
    "**TIPOS DE MACHINE LEARNING**\n",
    "![Diagrama](./Mult_Teoria_ML_AWS/image4.png)\n",
    "\n",
    "-\tAprendizaje supervisado: Un modelo usa entradas y salidas conocidas para generalizar resultados futuros. Es ampliamente aplicable. Se necesita:\n",
    "    + Un supervisor/ profesor que muestre las respuestas correctas al modelo\n",
    "\n",
    "    Aprende con ejemplos los cuales son datos etiquetados para identificar con exactitud en otros contextos lo que busca. Aunque tiene problemas\n",
    "\t\n",
    "    + <u>Clasificación binaria</u>: La variable objetivo de este ejemplo está limitada a dos opciones, aunque también existen los problemas de clasificación multiclase \n",
    "    + <u>Regresión</u>: No mapea una entrada a un número definido de categorías. Mapea a un valor continuo como un numero entero. Por ejemplo, al querer predecir el precio de las acciones de una empresa, estas podrían subir de 113 a 127$ por acción. \n",
    "\n",
    "![Clasificación](./Mult_Teoria_ML_AWS/image5.png)\n",
    "\n",
    "La **visión artificial** (CV) es un amplio campo que consiste en problemas de clasificación. Permite a las maquinas identificar personas, lugares y objetos en imágenes con una exactitud equivalente o superior a los niveles humanos con mayor velocidad y eficiencia. A menudo se crea con modelos DL\n",
    "\n",
    "-   <u>**Aprendizaje no supervisado**</u>: El modelo no conoce\n",
    "    entradas ni salidas; detecta patrones en los datos sin ayuda.\n",
    "\n",
    "    + No se proporcionan etiquetas porque no conoce todas las variables y patrones.\n",
    "    + La máquina debe descubrir y crear las etiquetas por sí misma.\n",
    "    + Usan datos que se les presentan para detectar las propiedades emergentes de todo el conjunto de datos\n",
    "\n",
    "Un tipo de aprendizaje no supervisado se **agrupa en clústeres** diferentes que se basan en características similares para comprender mejor los atributos de un clúster. Así puede ver patrones en los datos.\n",
    "\n",
    "![](./Mult_Teoria_ML_AWS/image6.png)\n",
    "\n",
    "**PROCESAMIENTO DEL LENGUAJE NATURAL**\n",
    "\n",
    "Otra área del ML usado para chatbots o centros de llamadas, herramientas de traducción, transcripciones, análisis de sentimientos…\n",
    "\n",
    "-\t<U>**Aprendizaje por refuerzo**</U>: El modelo interactúa con su entorno y debe aprender a tomar acciones que maximicen las compensaciones. \n",
    "\n",
    "    Mejora continuamente el modelo recopilando información de iteraciones anteriores. Aprende a través de ensayos y errores. Se utiliza cuando se conoce la recompensa de un resultado previsto pero no el camino para conseguirlo.\n",
    "        \n",
    "    + Lo que impulsa el aprendizaje se llama agente\n",
    "    + El lugar donde el agente aprende es el entorno\n",
    "    + Cuando el agente hace algo provocando una respuesta del entorno se llama acción\n",
    "    + La respuesta tras la acción se le llama recompensa o penalización dependiendo de si debe ser reforzado o descartado en el modelo\n",
    "\n",
    "    A medida que el agente se mueve en el entorno, sus acciones deben seguir recibiendo más recompensas y menos penalizaciones.\n",
    "\n",
    "        Vehículos autónomos reúnen varios algoritmos y modelos de DL y ML para resolver el problema de conducir de A a B.\n",
    "\n",
    "    La mayoría de los problemas son de aprendizaje supervisado\n",
    "\n",
    "**¿CÓMO UTILIZAR MACHINE LEARNING?**\n",
    "\n",
    "No todos los problemas se deben resolver con ML, a veces la programación básica funciona igual de bien.  Cuando se baraje la opción de ML, hay que buscar aspectos como la existencia de grandes conjuntos de datos y una gran cantidad de variables.\n",
    "\n",
    "### Proceso de ML\n",
    "**CANALIZACIÓN DE ML**\n",
    "\n",
    "![](./Mult_Teoria_ML_AWS/image7.png)\n",
    "\n",
    "1.\t**Problema empresarial:** Articular el problema empresarial y convertirlo en un problema de ML\n",
    "2.\t**Preparación de datos:** Extracción de datos y la fase de procesamiento previo. Se usa visualización de datos y estadísticas par determinar si los datos son coherentes y se puedan usar para ML. \n",
    "3.\t**Entrenamiento de modelos iterativos:** El proceso se vuelve iterativo y fluido. Es probable que se enfrente a varios procesos de ingeniería de características, entrenamiento, evaluación y ajuste antes de encontrar un modelo que se ajuste a sus objetivos empresariales. \n",
    "    \n",
    "-\t**Ingeniería de características:** Proceso de selección o creación de características que utilizará para entrenar el modelo. Intentamos estimar correctamente el calor objetivo para los nuevos datos, el algoritmo de ML usa las características para predecir el destino. Algunos cambios que pueden surgir es la limpieza de datos en columnas, convertir atributos en conjuntos numéricos o binarios de columnas, o dividir la fecha de nacimiento en las partes que la componen\n",
    "    \n",
    "- **Entrenamiento de modelos:** Se suele usar alrededor de 80% de los datos para tener algunos con los que realizar pruebas. \n",
    "\n",
    "4.\t**Evaluación y ajuste del modelo:** Uso de datos de prueba para ver qué tan bien funciona el modelo: se pide una predicción al modelo y, como ya tenemos lo que debería salir, podemos comparar lo que debería de salir. Se mejorará y modificarán los daros para que el modelo proporcione buenos resultados.\n",
    "5.\t**Sobreajuste e infraajuste:**\n",
    "- **Sobreajuste:** cuando funciona bien los datos de entrenamientos, pero no los datos de evaluación. El modelo memoriza los datos que ha visto y no puede generalizar a ejemplos no vistos.\n",
    "- **Infraajuste:** cuando su rendimiento es deficiente en los datos de entrenamiento. El modelo no puede determinar la relación entre los ejemplos de entrada y los valores objetivo.\n",
    "6.\t**Implementación:** Satisfecho con los resultados, se implementa el modelo para ofrecer las mejores predicciones posibles."
   ]
  },
  {
   "cell_type": "markdown",
   "metadata": {},
   "source": [
    "### Desafios del ML\n",
    "\n",
    "El ML plantea muchos desafíos como:\n",
    "\n",
    "| **Categoría**    | **Descripción** |\n",
    "|-----------------|---------------------------------------------|\n",
    "| **EN DATOS**    | - Deficiente  <br> - No representativo  <br> - Insuficiente  <br> - Sobreajuste e infraajuste |\n",
    "| **USUARIOS**    | - Falta de experiencia en ciencia de datos  <br> - Costos de personal con C. Datos  <br> - Falta de soporte de administración |\n",
    "| **APLICACIÓN**  | - Complejidad en la formulación de preguntas  <br> - Cómo explicar los modelos a la empresa  <br> - Costo de los sistemas de desarrollo |\n",
    "| **TECNOLOGÍA**  | - Problemas de privacidad de datos  <br> - Complicado seleccionar herramientas  <br> - Integración con otros sistemas |\n",
    "\n",
    "Hay muchos problemas de ML que se pueden resolver actualmente con pocos conocimientos en ML usando los modelos ya existentes. Se usan modelos ya entrenados a los que se les puede agregar sofisticadas capacidades (YOLO). \n"
   ]
  },
  {
   "cell_type": "markdown",
   "metadata": {},
   "source": [
    "## Módulo 3\n"
   ]
  },
  {
   "cell_type": "markdown",
   "metadata": {},
   "source": []
  }
 ],
 "metadata": {
  "kernelspec": {
   "display_name": "Python 3",
   "language": "python",
   "name": "python3"
  },
  "language_info": {
   "codemirror_mode": {
    "name": "ipython",
    "version": 3
   },
   "file_extension": ".py",
   "mimetype": "text/x-python",
   "name": "python",
   "nbconvert_exporter": "python",
   "pygments_lexer": "ipython3",
   "version": "3.12.6"
  }
 },
 "nbformat": 4,
 "nbformat_minor": 2
}
