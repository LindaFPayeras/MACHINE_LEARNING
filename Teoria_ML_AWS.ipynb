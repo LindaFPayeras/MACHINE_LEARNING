{
 "cells": [
  {
   "cell_type": "markdown",
   "metadata": {},
   "source": [
    "# Machine Learning Foundations\n",
    "*Linda Fei Payeras Olano | Según AWS*\n",
    "\n",
    "\n",
    "![Nine Benefits of Employing AI in the Education\n",
    "Industry](./Mult_Teoria_ML_AWS/image1.jpeg) "
   ]
  },
  {
   "cell_type": "markdown",
   "metadata": {},
   "source": [
    "## Contenido\n"
   ]
  },
  {
   "cell_type": "markdown",
   "metadata": {},
   "source": []
  }
 ],
 "metadata": {
  "language_info": {
   "name": "python"
  }
 },
 "nbformat": 4,
 "nbformat_minor": 2
}
